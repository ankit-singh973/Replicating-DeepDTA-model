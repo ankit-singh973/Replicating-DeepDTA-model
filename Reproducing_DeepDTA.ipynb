{
  "nbformat": 4,
  "nbformat_minor": 0,
  "metadata": {
    "colab": {
      "provenance": [],
      "gpuType": "T4"
    },
    "kernelspec": {
      "name": "python3",
      "display_name": "Python 3"
    },
    "language_info": {
      "name": "python"
    },
    "accelerator": "GPU"
  },
  "cells": [
    {
      "cell_type": "markdown",
      "source": [
        "# **Reproducing DeepDTA**\n",
        "    * In this notebook I have tried to replicate the results of DeepDTA paper.\n",
        "    * I have taken small dataset of size (18461 rows × 3 columns)\n",
        "\n",
        "> ## **DOI** : https://doi.org/10.1093/bioinformatics/bty593\n"
      ],
      "metadata": {
        "id": "_JURRLS9tIUt"
      }
    },
    {
      "cell_type": "code",
      "execution_count": 1,
      "metadata": {
        "id": "WTMKQY8RshL0"
      },
      "outputs": [],
      "source": [
        "import tensorflow as tf\n",
        "import numpy as np\n",
        "import csv\n",
        "import random\n",
        "import pandas as pd\n",
        "from tensorflow.keras.preprocessing.text import Tokenizer\n",
        "from tensorflow.keras.preprocessing.sequence import pad_sequences\n",
        "from tensorflow.keras.utils import to_categorical\n",
        "from tensorflow.keras import regularizers\n",
        "from tensorflow.keras import optimizers"
      ]
    },
    {
      "cell_type": "code",
      "source": [
        "np.random.seed(42)\n",
        "tf.random.set_seed(42)\n",
        "random.seed(42)"
      ],
      "metadata": {
        "id": "V1DhUlMrtyOq"
      },
      "execution_count": 2,
      "outputs": []
    },
    {
      "cell_type": "code",
      "source": [
        "# load data\n",
        "df = pd.read_csv(\"/content/drive/MyDrive/Colab_Notebooks/dta.csv\")\n",
        "df.head()"
      ],
      "metadata": {
        "colab": {
          "base_uri": "https://localhost:8080/",
          "height": 206
        },
        "id": "QFo_SmAau6ce",
        "outputId": "f84436c8-f4fe-480b-eabd-c80a9862d463"
      },
      "execution_count": 3,
      "outputs": [
        {
          "output_type": "execute_result",
          "data": {
            "text/plain": [
              "   ligand_id                                             smiles prot_id  \\\n",
              "0   25182616  CNC(=O)c1c(F)cccc1Nc1nc(Nc2cc3N(CCc3cc2OC)C(=O...  P54762   \n",
              "1    5329102  CCN(CC)CCNC(=O)c1c(C)[nH]c(\\C=C2/C(=O)Nc3ccc(F...  P30530   \n",
              "2     447077  CSc1cccc(Nc2ncc3cc(-c4c(Cl)cccc4Cl)c(=O)n(C)c3...  O14965   \n",
              "3   25182616  CNC(=O)c1c(F)cccc1Nc1nc(Nc2cc3N(CCc3cc2OC)C(=O...  P22455   \n",
              "4   10107559           NC[C@H]([C@@H](O)c1ccccc1)c1ccc2ccccc2c1  Q01959   \n",
              "\n",
              "                                         aa_sequence  affinity_score  \n",
              "0  MALDYLLLLLLASAVAAMEETLMDTRTATAELGWTANPASGWEEVS...        5.000000  \n",
              "1  MAWRCPRMGRVPLAWCLALCGWACMAPRGTQAEESPFVGNPGNITG...        8.045757  \n",
              "2  MDRSKENCISGPVKATAPVGGPKRVLVTQQFPCQNPLPVNSGQAQR...        5.000000  \n",
              "3  MRLLLALLGVLLSVPGPPVLSLEASEEVELEPCLAPSLEQQEQELT...        5.000000  \n",
              "4  MSKSKCSVGLMSSVVAPAKEPNAVGPKEVELILVKEQNGVQLTSST...        6.853872  "
            ],
            "text/html": [
              "\n",
              "  <div id=\"df-a98319ea-a6d8-4e76-9f09-2a73630a8360\" class=\"colab-df-container\">\n",
              "    <div>\n",
              "<style scoped>\n",
              "    .dataframe tbody tr th:only-of-type {\n",
              "        vertical-align: middle;\n",
              "    }\n",
              "\n",
              "    .dataframe tbody tr th {\n",
              "        vertical-align: top;\n",
              "    }\n",
              "\n",
              "    .dataframe thead th {\n",
              "        text-align: right;\n",
              "    }\n",
              "</style>\n",
              "<table border=\"1\" class=\"dataframe\">\n",
              "  <thead>\n",
              "    <tr style=\"text-align: right;\">\n",
              "      <th></th>\n",
              "      <th>ligand_id</th>\n",
              "      <th>smiles</th>\n",
              "      <th>prot_id</th>\n",
              "      <th>aa_sequence</th>\n",
              "      <th>affinity_score</th>\n",
              "    </tr>\n",
              "  </thead>\n",
              "  <tbody>\n",
              "    <tr>\n",
              "      <th>0</th>\n",
              "      <td>25182616</td>\n",
              "      <td>CNC(=O)c1c(F)cccc1Nc1nc(Nc2cc3N(CCc3cc2OC)C(=O...</td>\n",
              "      <td>P54762</td>\n",
              "      <td>MALDYLLLLLLASAVAAMEETLMDTRTATAELGWTANPASGWEEVS...</td>\n",
              "      <td>5.000000</td>\n",
              "    </tr>\n",
              "    <tr>\n",
              "      <th>1</th>\n",
              "      <td>5329102</td>\n",
              "      <td>CCN(CC)CCNC(=O)c1c(C)[nH]c(\\C=C2/C(=O)Nc3ccc(F...</td>\n",
              "      <td>P30530</td>\n",
              "      <td>MAWRCPRMGRVPLAWCLALCGWACMAPRGTQAEESPFVGNPGNITG...</td>\n",
              "      <td>8.045757</td>\n",
              "    </tr>\n",
              "    <tr>\n",
              "      <th>2</th>\n",
              "      <td>447077</td>\n",
              "      <td>CSc1cccc(Nc2ncc3cc(-c4c(Cl)cccc4Cl)c(=O)n(C)c3...</td>\n",
              "      <td>O14965</td>\n",
              "      <td>MDRSKENCISGPVKATAPVGGPKRVLVTQQFPCQNPLPVNSGQAQR...</td>\n",
              "      <td>5.000000</td>\n",
              "    </tr>\n",
              "    <tr>\n",
              "      <th>3</th>\n",
              "      <td>25182616</td>\n",
              "      <td>CNC(=O)c1c(F)cccc1Nc1nc(Nc2cc3N(CCc3cc2OC)C(=O...</td>\n",
              "      <td>P22455</td>\n",
              "      <td>MRLLLALLGVLLSVPGPPVLSLEASEEVELEPCLAPSLEQQEQELT...</td>\n",
              "      <td>5.000000</td>\n",
              "    </tr>\n",
              "    <tr>\n",
              "      <th>4</th>\n",
              "      <td>10107559</td>\n",
              "      <td>NC[C@H]([C@@H](O)c1ccccc1)c1ccc2ccccc2c1</td>\n",
              "      <td>Q01959</td>\n",
              "      <td>MSKSKCSVGLMSSVVAPAKEPNAVGPKEVELILVKEQNGVQLTSST...</td>\n",
              "      <td>6.853872</td>\n",
              "    </tr>\n",
              "  </tbody>\n",
              "</table>\n",
              "</div>\n",
              "    <div class=\"colab-df-buttons\">\n",
              "\n",
              "  <div class=\"colab-df-container\">\n",
              "    <button class=\"colab-df-convert\" onclick=\"convertToInteractive('df-a98319ea-a6d8-4e76-9f09-2a73630a8360')\"\n",
              "            title=\"Convert this dataframe to an interactive table.\"\n",
              "            style=\"display:none;\">\n",
              "\n",
              "  <svg xmlns=\"http://www.w3.org/2000/svg\" height=\"24px\" viewBox=\"0 -960 960 960\">\n",
              "    <path d=\"M120-120v-720h720v720H120Zm60-500h600v-160H180v160Zm220 220h160v-160H400v160Zm0 220h160v-160H400v160ZM180-400h160v-160H180v160Zm440 0h160v-160H620v160ZM180-180h160v-160H180v160Zm440 0h160v-160H620v160Z\"/>\n",
              "  </svg>\n",
              "    </button>\n",
              "\n",
              "  <style>\n",
              "    .colab-df-container {\n",
              "      display:flex;\n",
              "      gap: 12px;\n",
              "    }\n",
              "\n",
              "    .colab-df-convert {\n",
              "      background-color: #E8F0FE;\n",
              "      border: none;\n",
              "      border-radius: 50%;\n",
              "      cursor: pointer;\n",
              "      display: none;\n",
              "      fill: #1967D2;\n",
              "      height: 32px;\n",
              "      padding: 0 0 0 0;\n",
              "      width: 32px;\n",
              "    }\n",
              "\n",
              "    .colab-df-convert:hover {\n",
              "      background-color: #E2EBFA;\n",
              "      box-shadow: 0px 1px 2px rgba(60, 64, 67, 0.3), 0px 1px 3px 1px rgba(60, 64, 67, 0.15);\n",
              "      fill: #174EA6;\n",
              "    }\n",
              "\n",
              "    .colab-df-buttons div {\n",
              "      margin-bottom: 4px;\n",
              "    }\n",
              "\n",
              "    [theme=dark] .colab-df-convert {\n",
              "      background-color: #3B4455;\n",
              "      fill: #D2E3FC;\n",
              "    }\n",
              "\n",
              "    [theme=dark] .colab-df-convert:hover {\n",
              "      background-color: #434B5C;\n",
              "      box-shadow: 0px 1px 3px 1px rgba(0, 0, 0, 0.15);\n",
              "      filter: drop-shadow(0px 1px 2px rgba(0, 0, 0, 0.3));\n",
              "      fill: #FFFFFF;\n",
              "    }\n",
              "  </style>\n",
              "\n",
              "    <script>\n",
              "      const buttonEl =\n",
              "        document.querySelector('#df-a98319ea-a6d8-4e76-9f09-2a73630a8360 button.colab-df-convert');\n",
              "      buttonEl.style.display =\n",
              "        google.colab.kernel.accessAllowed ? 'block' : 'none';\n",
              "\n",
              "      async function convertToInteractive(key) {\n",
              "        const element = document.querySelector('#df-a98319ea-a6d8-4e76-9f09-2a73630a8360');\n",
              "        const dataTable =\n",
              "          await google.colab.kernel.invokeFunction('convertToInteractive',\n",
              "                                                    [key], {});\n",
              "        if (!dataTable) return;\n",
              "\n",
              "        const docLinkHtml = 'Like what you see? Visit the ' +\n",
              "          '<a target=\"_blank\" href=https://colab.research.google.com/notebooks/data_table.ipynb>data table notebook</a>'\n",
              "          + ' to learn more about interactive tables.';\n",
              "        element.innerHTML = '';\n",
              "        dataTable['output_type'] = 'display_data';\n",
              "        await google.colab.output.renderOutput(dataTable, element);\n",
              "        const docLink = document.createElement('div');\n",
              "        docLink.innerHTML = docLinkHtml;\n",
              "        element.appendChild(docLink);\n",
              "      }\n",
              "    </script>\n",
              "  </div>\n",
              "\n",
              "\n",
              "<div id=\"df-7673b76f-c4a6-4a4f-b282-928fe076d3d8\">\n",
              "  <button class=\"colab-df-quickchart\" onclick=\"quickchart('df-7673b76f-c4a6-4a4f-b282-928fe076d3d8')\"\n",
              "            title=\"Suggest charts\"\n",
              "            style=\"display:none;\">\n",
              "\n",
              "<svg xmlns=\"http://www.w3.org/2000/svg\" height=\"24px\"viewBox=\"0 0 24 24\"\n",
              "     width=\"24px\">\n",
              "    <g>\n",
              "        <path d=\"M19 3H5c-1.1 0-2 .9-2 2v14c0 1.1.9 2 2 2h14c1.1 0 2-.9 2-2V5c0-1.1-.9-2-2-2zM9 17H7v-7h2v7zm4 0h-2V7h2v10zm4 0h-2v-4h2v4z\"/>\n",
              "    </g>\n",
              "</svg>\n",
              "  </button>\n",
              "\n",
              "<style>\n",
              "  .colab-df-quickchart {\n",
              "      --bg-color: #E8F0FE;\n",
              "      --fill-color: #1967D2;\n",
              "      --hover-bg-color: #E2EBFA;\n",
              "      --hover-fill-color: #174EA6;\n",
              "      --disabled-fill-color: #AAA;\n",
              "      --disabled-bg-color: #DDD;\n",
              "  }\n",
              "\n",
              "  [theme=dark] .colab-df-quickchart {\n",
              "      --bg-color: #3B4455;\n",
              "      --fill-color: #D2E3FC;\n",
              "      --hover-bg-color: #434B5C;\n",
              "      --hover-fill-color: #FFFFFF;\n",
              "      --disabled-bg-color: #3B4455;\n",
              "      --disabled-fill-color: #666;\n",
              "  }\n",
              "\n",
              "  .colab-df-quickchart {\n",
              "    background-color: var(--bg-color);\n",
              "    border: none;\n",
              "    border-radius: 50%;\n",
              "    cursor: pointer;\n",
              "    display: none;\n",
              "    fill: var(--fill-color);\n",
              "    height: 32px;\n",
              "    padding: 0;\n",
              "    width: 32px;\n",
              "  }\n",
              "\n",
              "  .colab-df-quickchart:hover {\n",
              "    background-color: var(--hover-bg-color);\n",
              "    box-shadow: 0 1px 2px rgba(60, 64, 67, 0.3), 0 1px 3px 1px rgba(60, 64, 67, 0.15);\n",
              "    fill: var(--button-hover-fill-color);\n",
              "  }\n",
              "\n",
              "  .colab-df-quickchart-complete:disabled,\n",
              "  .colab-df-quickchart-complete:disabled:hover {\n",
              "    background-color: var(--disabled-bg-color);\n",
              "    fill: var(--disabled-fill-color);\n",
              "    box-shadow: none;\n",
              "  }\n",
              "\n",
              "  .colab-df-spinner {\n",
              "    border: 2px solid var(--fill-color);\n",
              "    border-color: transparent;\n",
              "    border-bottom-color: var(--fill-color);\n",
              "    animation:\n",
              "      spin 1s steps(1) infinite;\n",
              "  }\n",
              "\n",
              "  @keyframes spin {\n",
              "    0% {\n",
              "      border-color: transparent;\n",
              "      border-bottom-color: var(--fill-color);\n",
              "      border-left-color: var(--fill-color);\n",
              "    }\n",
              "    20% {\n",
              "      border-color: transparent;\n",
              "      border-left-color: var(--fill-color);\n",
              "      border-top-color: var(--fill-color);\n",
              "    }\n",
              "    30% {\n",
              "      border-color: transparent;\n",
              "      border-left-color: var(--fill-color);\n",
              "      border-top-color: var(--fill-color);\n",
              "      border-right-color: var(--fill-color);\n",
              "    }\n",
              "    40% {\n",
              "      border-color: transparent;\n",
              "      border-right-color: var(--fill-color);\n",
              "      border-top-color: var(--fill-color);\n",
              "    }\n",
              "    60% {\n",
              "      border-color: transparent;\n",
              "      border-right-color: var(--fill-color);\n",
              "    }\n",
              "    80% {\n",
              "      border-color: transparent;\n",
              "      border-right-color: var(--fill-color);\n",
              "      border-bottom-color: var(--fill-color);\n",
              "    }\n",
              "    90% {\n",
              "      border-color: transparent;\n",
              "      border-bottom-color: var(--fill-color);\n",
              "    }\n",
              "  }\n",
              "</style>\n",
              "\n",
              "  <script>\n",
              "    async function quickchart(key) {\n",
              "      const quickchartButtonEl =\n",
              "        document.querySelector('#' + key + ' button');\n",
              "      quickchartButtonEl.disabled = true;  // To prevent multiple clicks.\n",
              "      quickchartButtonEl.classList.add('colab-df-spinner');\n",
              "      try {\n",
              "        const charts = await google.colab.kernel.invokeFunction(\n",
              "            'suggestCharts', [key], {});\n",
              "      } catch (error) {\n",
              "        console.error('Error during call to suggestCharts:', error);\n",
              "      }\n",
              "      quickchartButtonEl.classList.remove('colab-df-spinner');\n",
              "      quickchartButtonEl.classList.add('colab-df-quickchart-complete');\n",
              "    }\n",
              "    (() => {\n",
              "      let quickchartButtonEl =\n",
              "        document.querySelector('#df-7673b76f-c4a6-4a4f-b282-928fe076d3d8 button');\n",
              "      quickchartButtonEl.style.display =\n",
              "        google.colab.kernel.accessAllowed ? 'block' : 'none';\n",
              "    })();\n",
              "  </script>\n",
              "</div>\n",
              "    </div>\n",
              "  </div>\n"
            ],
            "application/vnd.google.colaboratory.intrinsic+json": {
              "type": "dataframe",
              "variable_name": "df",
              "summary": "{\n  \"name\": \"df\",\n  \"rows\": 18461,\n  \"fields\": [\n    {\n      \"column\": \"ligand_id\",\n      \"properties\": {\n        \"dtype\": \"number\",\n        \"std\": 20351289,\n        \"min\": 774,\n        \"max\": 132271625,\n        \"num_unique_values\": 750,\n        \"samples\": [\n          44280071,\n          57336560,\n          44294316\n        ],\n        \"semantic_type\": \"\",\n        \"description\": \"\"\n      }\n    },\n    {\n      \"column\": \"smiles\",\n      \"properties\": {\n        \"dtype\": \"category\",\n        \"num_unique_values\": 750,\n        \"samples\": [\n          \"C[C@@H](O)[C@H](N(C)C(=O)[C@@H]1CSSC[C@@H](NC(=O)[C@H](N)Cc2ccccc2)C(=O)N[C@@H](Cc2ccccc2)C(=O)N[C@@H](Cc2c[nH]c3ccccc23)C(=O)N[C@@H](CCCCN)C(=O)N[C@@H]([C@@H](C)O)C(=O)N1)C(N)=O\",\n          \"Cc1ccc(NC(=O)C(F)(F)C(F)(F)C(F)(F)C(F)(F)C(F)(F)C(F)(F)C(=O)NO)cc1C\",\n          \"CC[C@H](C)[C@H]1NC(=O)[C@H](Cc2cc3ccccc3[nH]2)NC(=O)CC2(CCCCC2)SSC[C@@H](NC(=O)[C@@H](CC(N)=O)NC(=O)[C@H](CCC(N)=O)NC1=O)C(=O)N1CCC[C@H]1C(=O)N[C@@H](CCCNC(N)=N)C(=O)NCC(N)=O\"\n        ],\n        \"semantic_type\": \"\",\n        \"description\": \"\"\n      }\n    },\n    {\n      \"column\": \"prot_id\",\n      \"properties\": {\n        \"dtype\": \"category\",\n        \"num_unique_values\": 398,\n        \"samples\": [\n          \"Q16512\",\n          \"P37231\",\n          \"O43318\"\n        ],\n        \"semantic_type\": \"\",\n        \"description\": \"\"\n      }\n    },\n    {\n      \"column\": \"aa_sequence\",\n      \"properties\": {\n        \"dtype\": \"category\",\n        \"num_unique_values\": 398,\n        \"samples\": [\n          \"MASDAVQSEPRSWSLLEQLGLAGADLAAPGVQQQLELERERLRREIRKELKLKEGAENLRRATTDLGRSLGPVELLLRGSSRRLDLLHQQLQELHAHVVLPDPAATHDGPQSPGAGGPTCSATNLSRVAGLEKQLAIELKVKQGAENMIQTYSNGSTKDRKLLLTAQQMLQDSKTKIDIIRMQLRRALQAGQLENQAAPDDTQGSPDLGAVELRIEELRHHFRVEHAVAEGAKNVLRLLSAAKAPDRKAVSEAQEKLTESNQKLGLLREALERRLGELPADHPKGRLLREELAAASSAAFSTRLAGPFPATHYSTLCKPAPLTGTLEVRVVGCRDLPETIPWNPTPSMGGPGTPDSRPPFLSRPARGLYSRSGSLSGRSSLKAEAENTSEVSTVLKLDNTVVGQTSWKPCGPNAWDQSFTLELERARELELAVFWRDQRGLCALKFLKLEDFLDNERHEVQLDMEPQGCLVAEVTFRNPVIERIPRLRRQKKIFSKQQGKAFQRARQMNIDVATWVRLLRRLIPNATGTGTFSPGASPGSEARTTGDISVEKLNLGTDSDSSPQKSSRDPPSSPSSLSSPIQESTAPELPSETQETPGPALCSPLRKSPLTLEDFKFLAVLGRGHFGKVLLSEFRPSGELFAIKALKKGDIVARDEVESLMCEKRILAAVTSAGHPFLVNLFGCFQTPEHVCFVMEYSAGGDLMLHIHSDVFSEPRAIFYSACVVLGLQFLHEHKIVYRDLKLDNLLLDTEGYVKIADFGLCKEGMGYGDRTSTFCGTPEFLAPEVLTDTSYTRAVDWWGLGVLLYEMLVGESPFPGDDEEEVFDSIVNDEVRYPRFLSAEAIGIMRRLLRRNPERRLGSSERDAEDVKKQPFFRTLGWEALLARRLPPPFVPTLSGRTDVSNFDEEFTGEAPTLSPPRDARPLTAAEQAAFLDFDFVAGGC\",\n          \"MGETLGDSPIDPESDSFTDTLSANISQEMTMVDTEMPFWPTNFGISSVDLSVMEDHSHSFDIKPFTTVDFSSISTPHYEDIPFTRTDPVVADYKYDLKLQEYQSAIKVEPASPPYYSEKTQLYNKPHEEPSNSLMAIECRVCGDKASGFHYGVHACEGCKGFFRRTIRLKLIYDRCDLNCRIHKKSRNKCQYCRFQKCLAVGMSHNAIRFGRMPQAEKEKLLAEISSDIDQLNPESADLRALAKHLYDSYIKSFPLTKAKARAILTGKTTDKSPFVIYDMNSLMMGEDKIKFKHITPLQEQSKEVAIRIFQGCQFRSVEAVQEITEYAKSIPGFVNLDLNDQVTLLKYGVHEIIYTMLASLMNKDGVLISEGQGFMTREFLKSLRKPFGDFMEPKFEFAVKFNALELDDSDLAIFIAVIILSGDRPGLLNVKPIEDIQDNLLQALELQLKLNHPESSQLFAKLLQKMTDLRQIVTEHVQLLQVIKKTETDMSLHPLLQEIYKDLY\",\n          \"MSTASAASSSSSSSAGEMIEAPSQVLNFEEIDYKEIEVEEVVGRGAFGVVCKAKWRAKDVAIKQIESESERKAFIVELRQLSRVNHPNIVKLYGACLNPVCLVMEYAEGGSLYNVLHGAEPLPYYTAAHAMSWCLQCSQGVAYLHSMQPKALIHRDLKPPNLLLVAGGTVLKICDFGTACDIQTHMTNNKGSAAWMAPEVFEGSNYSEKCDVFSWGIILWEVITRRKPFDEIGGPAFRIMWAVHNGTRPPLIKNLPKPIESLMTRCWSKDPSQRPSMEEIVKIMTHLMRYFPGADEPLQYPCQYSDEGQSNSATSTGSFMDIASTNTSNKSDTNMEQVPATNDTIKRLESKLLKNQAKQQSESGRLSLGASRGSSVESLPPTSEGKRMSADMSEIEARIAATTAYSKPKRGHRKTASFGNILDVPEIVISGNGQPRRRSIQDLTVTGTEPGQVSSRSSSPSVRMITTSGPTSEKPTRSHPWTPDDSTDTNGSDNSIPMAYLTLDHQLQPLAPCPNSKESMAVFEQHCKMAQEYMKVQTEIALLLQRKQELVAELDQDEKDQQNTSRLVQEHKKLLDENKSLSTYYQQCKKQLEVIRSQQQKRQGTS\"\n        ],\n        \"semantic_type\": \"\",\n        \"description\": \"\"\n      }\n    },\n    {\n      \"column\": \"affinity_score\",\n      \"properties\": {\n        \"dtype\": \"number\",\n        \"std\": 1.1368240513772159,\n        \"min\": 1.602059991,\n        \"max\": 13.32790214,\n        \"num_unique_values\": 1015,\n        \"samples\": [\n          8.209714836,\n          3.070581074,\n          8.026872146\n        ],\n        \"semantic_type\": \"\",\n        \"description\": \"\"\n      }\n    }\n  ]\n}"
            }
          },
          "metadata": {},
          "execution_count": 3
        }
      ]
    },
    {
      "cell_type": "code",
      "source": [
        "df.columns"
      ],
      "metadata": {
        "colab": {
          "base_uri": "https://localhost:8080/"
        },
        "id": "Pkr4tQMBvhYS",
        "outputId": "ee497d05-25c7-4e70-ec15-cfeb336eee34"
      },
      "execution_count": 4,
      "outputs": [
        {
          "output_type": "execute_result",
          "data": {
            "text/plain": [
              "Index(['ligand_id', 'smiles', 'prot_id', 'aa_sequence', 'affinity_score'], dtype='object')"
            ]
          },
          "metadata": {},
          "execution_count": 4
        }
      ]
    },
    {
      "cell_type": "code",
      "source": [
        "df2 = df.drop(columns=['ligand_id', 'prot_id'], axis = 1)"
      ],
      "metadata": {
        "id": "2MijF9jRvx_U"
      },
      "execution_count": 5,
      "outputs": []
    },
    {
      "cell_type": "code",
      "source": [
        "df2"
      ],
      "metadata": {
        "colab": {
          "base_uri": "https://localhost:8080/",
          "height": 424
        },
        "id": "YSztmU94wRTr",
        "outputId": "3af32029-a6d8-4b84-b150-5a1cdb40187c"
      },
      "execution_count": 6,
      "outputs": [
        {
          "output_type": "execute_result",
          "data": {
            "text/plain": [
              "                                                  smiles  \\\n",
              "0      CNC(=O)c1c(F)cccc1Nc1nc(Nc2cc3N(CCc3cc2OC)C(=O...   \n",
              "1      CCN(CC)CCNC(=O)c1c(C)[nH]c(\\C=C2/C(=O)Nc3ccc(F...   \n",
              "2      CSc1cccc(Nc2ncc3cc(-c4c(Cl)cccc4Cl)c(=O)n(C)c3...   \n",
              "3      CNC(=O)c1c(F)cccc1Nc1nc(Nc2cc3N(CCc3cc2OC)C(=O...   \n",
              "4               NC[C@H]([C@@H](O)c1ccccc1)c1ccc2ccccc2c1   \n",
              "...                                                  ...   \n",
              "18456  COc1ccc(F)c(F)c1C(=O)c1cnc(NC2CCN(CC2)S(C)(=O)...   \n",
              "18457  C[C@@H](O)COc1cn2ncnc(Oc3ccc4[nH]c(C)cc4c3F)c2c1C   \n",
              "18458  CCOc1cc2ncc(C#N)c(Nc3ccc(F)c(Cl)c3)c2cc1NC(=O)...   \n",
              "18459  C[C@H]1C[C@@H](Nc2ccc(Cl)cc2)c2cc(ccc2N1C(C)=O...   \n",
              "18460  CN1CCN(CC1)c1cc(Nc2cc(C)n[nH]2)nc(Sc2ccc(NC(=O...   \n",
              "\n",
              "                                             aa_sequence  affinity_score  \n",
              "0      MALDYLLLLLLASAVAAMEETLMDTRTATAELGWTANPASGWEEVS...        5.000000  \n",
              "1      MAWRCPRMGRVPLAWCLALCGWACMAPRGTQAEESPFVGNPGNITG...        8.045757  \n",
              "2      MDRSKENCISGPVKATAPVGGPKRVLVTQQFPCQNPLPVNSGQAQR...        5.000000  \n",
              "3      MRLLLALLGVLLSVPGPPVLSLEASEEVELEPCLAPSLEQQEQELT...        5.000000  \n",
              "4      MSKSKCSVGLMSSVVAPAKEPNAVGPKEVELILVKEQNGVQLTSST...        6.853872  \n",
              "...                                                  ...             ...  \n",
              "18456  MPPRPSSGELWGIHLMPPRILVECLLPNGMIVTLECLREATLITIK...        5.000000  \n",
              "18457  MSALAGEDVWRCPGCGDHIAPSQIWYRTVNETWHGSCFRCSECQDS...        5.000000  \n",
              "18458  MKPATGLWVWVSLLVAAGTVQPSDSQSVCAGTENKLSSLSDLEQQY...        4.677781  \n",
              "18459  MLQNVTPHNKLPGEGNAGLLGLGPEAAAPGKRIRKPSLLYEGFESP...        7.602060  \n",
              "18460  MDLVGVASPEPGTAAAWGPSKCPWAIPQNTISCSLADVMSEQLAKE...        6.221849  \n",
              "\n",
              "[18461 rows x 3 columns]"
            ],
            "text/html": [
              "\n",
              "  <div id=\"df-b8beabed-7c6c-44fa-b1a7-73cc4b9ee3f4\" class=\"colab-df-container\">\n",
              "    <div>\n",
              "<style scoped>\n",
              "    .dataframe tbody tr th:only-of-type {\n",
              "        vertical-align: middle;\n",
              "    }\n",
              "\n",
              "    .dataframe tbody tr th {\n",
              "        vertical-align: top;\n",
              "    }\n",
              "\n",
              "    .dataframe thead th {\n",
              "        text-align: right;\n",
              "    }\n",
              "</style>\n",
              "<table border=\"1\" class=\"dataframe\">\n",
              "  <thead>\n",
              "    <tr style=\"text-align: right;\">\n",
              "      <th></th>\n",
              "      <th>smiles</th>\n",
              "      <th>aa_sequence</th>\n",
              "      <th>affinity_score</th>\n",
              "    </tr>\n",
              "  </thead>\n",
              "  <tbody>\n",
              "    <tr>\n",
              "      <th>0</th>\n",
              "      <td>CNC(=O)c1c(F)cccc1Nc1nc(Nc2cc3N(CCc3cc2OC)C(=O...</td>\n",
              "      <td>MALDYLLLLLLASAVAAMEETLMDTRTATAELGWTANPASGWEEVS...</td>\n",
              "      <td>5.000000</td>\n",
              "    </tr>\n",
              "    <tr>\n",
              "      <th>1</th>\n",
              "      <td>CCN(CC)CCNC(=O)c1c(C)[nH]c(\\C=C2/C(=O)Nc3ccc(F...</td>\n",
              "      <td>MAWRCPRMGRVPLAWCLALCGWACMAPRGTQAEESPFVGNPGNITG...</td>\n",
              "      <td>8.045757</td>\n",
              "    </tr>\n",
              "    <tr>\n",
              "      <th>2</th>\n",
              "      <td>CSc1cccc(Nc2ncc3cc(-c4c(Cl)cccc4Cl)c(=O)n(C)c3...</td>\n",
              "      <td>MDRSKENCISGPVKATAPVGGPKRVLVTQQFPCQNPLPVNSGQAQR...</td>\n",
              "      <td>5.000000</td>\n",
              "    </tr>\n",
              "    <tr>\n",
              "      <th>3</th>\n",
              "      <td>CNC(=O)c1c(F)cccc1Nc1nc(Nc2cc3N(CCc3cc2OC)C(=O...</td>\n",
              "      <td>MRLLLALLGVLLSVPGPPVLSLEASEEVELEPCLAPSLEQQEQELT...</td>\n",
              "      <td>5.000000</td>\n",
              "    </tr>\n",
              "    <tr>\n",
              "      <th>4</th>\n",
              "      <td>NC[C@H]([C@@H](O)c1ccccc1)c1ccc2ccccc2c1</td>\n",
              "      <td>MSKSKCSVGLMSSVVAPAKEPNAVGPKEVELILVKEQNGVQLTSST...</td>\n",
              "      <td>6.853872</td>\n",
              "    </tr>\n",
              "    <tr>\n",
              "      <th>...</th>\n",
              "      <td>...</td>\n",
              "      <td>...</td>\n",
              "      <td>...</td>\n",
              "    </tr>\n",
              "    <tr>\n",
              "      <th>18456</th>\n",
              "      <td>COc1ccc(F)c(F)c1C(=O)c1cnc(NC2CCN(CC2)S(C)(=O)...</td>\n",
              "      <td>MPPRPSSGELWGIHLMPPRILVECLLPNGMIVTLECLREATLITIK...</td>\n",
              "      <td>5.000000</td>\n",
              "    </tr>\n",
              "    <tr>\n",
              "      <th>18457</th>\n",
              "      <td>C[C@@H](O)COc1cn2ncnc(Oc3ccc4[nH]c(C)cc4c3F)c2c1C</td>\n",
              "      <td>MSALAGEDVWRCPGCGDHIAPSQIWYRTVNETWHGSCFRCSECQDS...</td>\n",
              "      <td>5.000000</td>\n",
              "    </tr>\n",
              "    <tr>\n",
              "      <th>18458</th>\n",
              "      <td>CCOc1cc2ncc(C#N)c(Nc3ccc(F)c(Cl)c3)c2cc1NC(=O)...</td>\n",
              "      <td>MKPATGLWVWVSLLVAAGTVQPSDSQSVCAGTENKLSSLSDLEQQY...</td>\n",
              "      <td>4.677781</td>\n",
              "    </tr>\n",
              "    <tr>\n",
              "      <th>18459</th>\n",
              "      <td>C[C@H]1C[C@@H](Nc2ccc(Cl)cc2)c2cc(ccc2N1C(C)=O...</td>\n",
              "      <td>MLQNVTPHNKLPGEGNAGLLGLGPEAAAPGKRIRKPSLLYEGFESP...</td>\n",
              "      <td>7.602060</td>\n",
              "    </tr>\n",
              "    <tr>\n",
              "      <th>18460</th>\n",
              "      <td>CN1CCN(CC1)c1cc(Nc2cc(C)n[nH]2)nc(Sc2ccc(NC(=O...</td>\n",
              "      <td>MDLVGVASPEPGTAAAWGPSKCPWAIPQNTISCSLADVMSEQLAKE...</td>\n",
              "      <td>6.221849</td>\n",
              "    </tr>\n",
              "  </tbody>\n",
              "</table>\n",
              "<p>18461 rows × 3 columns</p>\n",
              "</div>\n",
              "    <div class=\"colab-df-buttons\">\n",
              "\n",
              "  <div class=\"colab-df-container\">\n",
              "    <button class=\"colab-df-convert\" onclick=\"convertToInteractive('df-b8beabed-7c6c-44fa-b1a7-73cc4b9ee3f4')\"\n",
              "            title=\"Convert this dataframe to an interactive table.\"\n",
              "            style=\"display:none;\">\n",
              "\n",
              "  <svg xmlns=\"http://www.w3.org/2000/svg\" height=\"24px\" viewBox=\"0 -960 960 960\">\n",
              "    <path d=\"M120-120v-720h720v720H120Zm60-500h600v-160H180v160Zm220 220h160v-160H400v160Zm0 220h160v-160H400v160ZM180-400h160v-160H180v160Zm440 0h160v-160H620v160ZM180-180h160v-160H180v160Zm440 0h160v-160H620v160Z\"/>\n",
              "  </svg>\n",
              "    </button>\n",
              "\n",
              "  <style>\n",
              "    .colab-df-container {\n",
              "      display:flex;\n",
              "      gap: 12px;\n",
              "    }\n",
              "\n",
              "    .colab-df-convert {\n",
              "      background-color: #E8F0FE;\n",
              "      border: none;\n",
              "      border-radius: 50%;\n",
              "      cursor: pointer;\n",
              "      display: none;\n",
              "      fill: #1967D2;\n",
              "      height: 32px;\n",
              "      padding: 0 0 0 0;\n",
              "      width: 32px;\n",
              "    }\n",
              "\n",
              "    .colab-df-convert:hover {\n",
              "      background-color: #E2EBFA;\n",
              "      box-shadow: 0px 1px 2px rgba(60, 64, 67, 0.3), 0px 1px 3px 1px rgba(60, 64, 67, 0.15);\n",
              "      fill: #174EA6;\n",
              "    }\n",
              "\n",
              "    .colab-df-buttons div {\n",
              "      margin-bottom: 4px;\n",
              "    }\n",
              "\n",
              "    [theme=dark] .colab-df-convert {\n",
              "      background-color: #3B4455;\n",
              "      fill: #D2E3FC;\n",
              "    }\n",
              "\n",
              "    [theme=dark] .colab-df-convert:hover {\n",
              "      background-color: #434B5C;\n",
              "      box-shadow: 0px 1px 3px 1px rgba(0, 0, 0, 0.15);\n",
              "      filter: drop-shadow(0px 1px 2px rgba(0, 0, 0, 0.3));\n",
              "      fill: #FFFFFF;\n",
              "    }\n",
              "  </style>\n",
              "\n",
              "    <script>\n",
              "      const buttonEl =\n",
              "        document.querySelector('#df-b8beabed-7c6c-44fa-b1a7-73cc4b9ee3f4 button.colab-df-convert');\n",
              "      buttonEl.style.display =\n",
              "        google.colab.kernel.accessAllowed ? 'block' : 'none';\n",
              "\n",
              "      async function convertToInteractive(key) {\n",
              "        const element = document.querySelector('#df-b8beabed-7c6c-44fa-b1a7-73cc4b9ee3f4');\n",
              "        const dataTable =\n",
              "          await google.colab.kernel.invokeFunction('convertToInteractive',\n",
              "                                                    [key], {});\n",
              "        if (!dataTable) return;\n",
              "\n",
              "        const docLinkHtml = 'Like what you see? Visit the ' +\n",
              "          '<a target=\"_blank\" href=https://colab.research.google.com/notebooks/data_table.ipynb>data table notebook</a>'\n",
              "          + ' to learn more about interactive tables.';\n",
              "        element.innerHTML = '';\n",
              "        dataTable['output_type'] = 'display_data';\n",
              "        await google.colab.output.renderOutput(dataTable, element);\n",
              "        const docLink = document.createElement('div');\n",
              "        docLink.innerHTML = docLinkHtml;\n",
              "        element.appendChild(docLink);\n",
              "      }\n",
              "    </script>\n",
              "  </div>\n",
              "\n",
              "\n",
              "<div id=\"df-70ddc351-642b-4890-87e7-a3e7f12ec854\">\n",
              "  <button class=\"colab-df-quickchart\" onclick=\"quickchart('df-70ddc351-642b-4890-87e7-a3e7f12ec854')\"\n",
              "            title=\"Suggest charts\"\n",
              "            style=\"display:none;\">\n",
              "\n",
              "<svg xmlns=\"http://www.w3.org/2000/svg\" height=\"24px\"viewBox=\"0 0 24 24\"\n",
              "     width=\"24px\">\n",
              "    <g>\n",
              "        <path d=\"M19 3H5c-1.1 0-2 .9-2 2v14c0 1.1.9 2 2 2h14c1.1 0 2-.9 2-2V5c0-1.1-.9-2-2-2zM9 17H7v-7h2v7zm4 0h-2V7h2v10zm4 0h-2v-4h2v4z\"/>\n",
              "    </g>\n",
              "</svg>\n",
              "  </button>\n",
              "\n",
              "<style>\n",
              "  .colab-df-quickchart {\n",
              "      --bg-color: #E8F0FE;\n",
              "      --fill-color: #1967D2;\n",
              "      --hover-bg-color: #E2EBFA;\n",
              "      --hover-fill-color: #174EA6;\n",
              "      --disabled-fill-color: #AAA;\n",
              "      --disabled-bg-color: #DDD;\n",
              "  }\n",
              "\n",
              "  [theme=dark] .colab-df-quickchart {\n",
              "      --bg-color: #3B4455;\n",
              "      --fill-color: #D2E3FC;\n",
              "      --hover-bg-color: #434B5C;\n",
              "      --hover-fill-color: #FFFFFF;\n",
              "      --disabled-bg-color: #3B4455;\n",
              "      --disabled-fill-color: #666;\n",
              "  }\n",
              "\n",
              "  .colab-df-quickchart {\n",
              "    background-color: var(--bg-color);\n",
              "    border: none;\n",
              "    border-radius: 50%;\n",
              "    cursor: pointer;\n",
              "    display: none;\n",
              "    fill: var(--fill-color);\n",
              "    height: 32px;\n",
              "    padding: 0;\n",
              "    width: 32px;\n",
              "  }\n",
              "\n",
              "  .colab-df-quickchart:hover {\n",
              "    background-color: var(--hover-bg-color);\n",
              "    box-shadow: 0 1px 2px rgba(60, 64, 67, 0.3), 0 1px 3px 1px rgba(60, 64, 67, 0.15);\n",
              "    fill: var(--button-hover-fill-color);\n",
              "  }\n",
              "\n",
              "  .colab-df-quickchart-complete:disabled,\n",
              "  .colab-df-quickchart-complete:disabled:hover {\n",
              "    background-color: var(--disabled-bg-color);\n",
              "    fill: var(--disabled-fill-color);\n",
              "    box-shadow: none;\n",
              "  }\n",
              "\n",
              "  .colab-df-spinner {\n",
              "    border: 2px solid var(--fill-color);\n",
              "    border-color: transparent;\n",
              "    border-bottom-color: var(--fill-color);\n",
              "    animation:\n",
              "      spin 1s steps(1) infinite;\n",
              "  }\n",
              "\n",
              "  @keyframes spin {\n",
              "    0% {\n",
              "      border-color: transparent;\n",
              "      border-bottom-color: var(--fill-color);\n",
              "      border-left-color: var(--fill-color);\n",
              "    }\n",
              "    20% {\n",
              "      border-color: transparent;\n",
              "      border-left-color: var(--fill-color);\n",
              "      border-top-color: var(--fill-color);\n",
              "    }\n",
              "    30% {\n",
              "      border-color: transparent;\n",
              "      border-left-color: var(--fill-color);\n",
              "      border-top-color: var(--fill-color);\n",
              "      border-right-color: var(--fill-color);\n",
              "    }\n",
              "    40% {\n",
              "      border-color: transparent;\n",
              "      border-right-color: var(--fill-color);\n",
              "      border-top-color: var(--fill-color);\n",
              "    }\n",
              "    60% {\n",
              "      border-color: transparent;\n",
              "      border-right-color: var(--fill-color);\n",
              "    }\n",
              "    80% {\n",
              "      border-color: transparent;\n",
              "      border-right-color: var(--fill-color);\n",
              "      border-bottom-color: var(--fill-color);\n",
              "    }\n",
              "    90% {\n",
              "      border-color: transparent;\n",
              "      border-bottom-color: var(--fill-color);\n",
              "    }\n",
              "  }\n",
              "</style>\n",
              "\n",
              "  <script>\n",
              "    async function quickchart(key) {\n",
              "      const quickchartButtonEl =\n",
              "        document.querySelector('#' + key + ' button');\n",
              "      quickchartButtonEl.disabled = true;  // To prevent multiple clicks.\n",
              "      quickchartButtonEl.classList.add('colab-df-spinner');\n",
              "      try {\n",
              "        const charts = await google.colab.kernel.invokeFunction(\n",
              "            'suggestCharts', [key], {});\n",
              "      } catch (error) {\n",
              "        console.error('Error during call to suggestCharts:', error);\n",
              "      }\n",
              "      quickchartButtonEl.classList.remove('colab-df-spinner');\n",
              "      quickchartButtonEl.classList.add('colab-df-quickchart-complete');\n",
              "    }\n",
              "    (() => {\n",
              "      let quickchartButtonEl =\n",
              "        document.querySelector('#df-70ddc351-642b-4890-87e7-a3e7f12ec854 button');\n",
              "      quickchartButtonEl.style.display =\n",
              "        google.colab.kernel.accessAllowed ? 'block' : 'none';\n",
              "    })();\n",
              "  </script>\n",
              "</div>\n",
              "    </div>\n",
              "  </div>\n"
            ],
            "application/vnd.google.colaboratory.intrinsic+json": {
              "type": "dataframe",
              "variable_name": "df2",
              "summary": "{\n  \"name\": \"df2\",\n  \"rows\": 18461,\n  \"fields\": [\n    {\n      \"column\": \"smiles\",\n      \"properties\": {\n        \"dtype\": \"category\",\n        \"num_unique_values\": 750,\n        \"samples\": [\n          \"C[C@@H](O)[C@H](N(C)C(=O)[C@@H]1CSSC[C@@H](NC(=O)[C@H](N)Cc2ccccc2)C(=O)N[C@@H](Cc2ccccc2)C(=O)N[C@@H](Cc2c[nH]c3ccccc23)C(=O)N[C@@H](CCCCN)C(=O)N[C@@H]([C@@H](C)O)C(=O)N1)C(N)=O\",\n          \"Cc1ccc(NC(=O)C(F)(F)C(F)(F)C(F)(F)C(F)(F)C(F)(F)C(F)(F)C(=O)NO)cc1C\",\n          \"CC[C@H](C)[C@H]1NC(=O)[C@H](Cc2cc3ccccc3[nH]2)NC(=O)CC2(CCCCC2)SSC[C@@H](NC(=O)[C@@H](CC(N)=O)NC(=O)[C@H](CCC(N)=O)NC1=O)C(=O)N1CCC[C@H]1C(=O)N[C@@H](CCCNC(N)=N)C(=O)NCC(N)=O\"\n        ],\n        \"semantic_type\": \"\",\n        \"description\": \"\"\n      }\n    },\n    {\n      \"column\": \"aa_sequence\",\n      \"properties\": {\n        \"dtype\": \"category\",\n        \"num_unique_values\": 398,\n        \"samples\": [\n          \"MASDAVQSEPRSWSLLEQLGLAGADLAAPGVQQQLELERERLRREIRKELKLKEGAENLRRATTDLGRSLGPVELLLRGSSRRLDLLHQQLQELHAHVVLPDPAATHDGPQSPGAGGPTCSATNLSRVAGLEKQLAIELKVKQGAENMIQTYSNGSTKDRKLLLTAQQMLQDSKTKIDIIRMQLRRALQAGQLENQAAPDDTQGSPDLGAVELRIEELRHHFRVEHAVAEGAKNVLRLLSAAKAPDRKAVSEAQEKLTESNQKLGLLREALERRLGELPADHPKGRLLREELAAASSAAFSTRLAGPFPATHYSTLCKPAPLTGTLEVRVVGCRDLPETIPWNPTPSMGGPGTPDSRPPFLSRPARGLYSRSGSLSGRSSLKAEAENTSEVSTVLKLDNTVVGQTSWKPCGPNAWDQSFTLELERARELELAVFWRDQRGLCALKFLKLEDFLDNERHEVQLDMEPQGCLVAEVTFRNPVIERIPRLRRQKKIFSKQQGKAFQRARQMNIDVATWVRLLRRLIPNATGTGTFSPGASPGSEARTTGDISVEKLNLGTDSDSSPQKSSRDPPSSPSSLSSPIQESTAPELPSETQETPGPALCSPLRKSPLTLEDFKFLAVLGRGHFGKVLLSEFRPSGELFAIKALKKGDIVARDEVESLMCEKRILAAVTSAGHPFLVNLFGCFQTPEHVCFVMEYSAGGDLMLHIHSDVFSEPRAIFYSACVVLGLQFLHEHKIVYRDLKLDNLLLDTEGYVKIADFGLCKEGMGYGDRTSTFCGTPEFLAPEVLTDTSYTRAVDWWGLGVLLYEMLVGESPFPGDDEEEVFDSIVNDEVRYPRFLSAEAIGIMRRLLRRNPERRLGSSERDAEDVKKQPFFRTLGWEALLARRLPPPFVPTLSGRTDVSNFDEEFTGEAPTLSPPRDARPLTAAEQAAFLDFDFVAGGC\",\n          \"MGETLGDSPIDPESDSFTDTLSANISQEMTMVDTEMPFWPTNFGISSVDLSVMEDHSHSFDIKPFTTVDFSSISTPHYEDIPFTRTDPVVADYKYDLKLQEYQSAIKVEPASPPYYSEKTQLYNKPHEEPSNSLMAIECRVCGDKASGFHYGVHACEGCKGFFRRTIRLKLIYDRCDLNCRIHKKSRNKCQYCRFQKCLAVGMSHNAIRFGRMPQAEKEKLLAEISSDIDQLNPESADLRALAKHLYDSYIKSFPLTKAKARAILTGKTTDKSPFVIYDMNSLMMGEDKIKFKHITPLQEQSKEVAIRIFQGCQFRSVEAVQEITEYAKSIPGFVNLDLNDQVTLLKYGVHEIIYTMLASLMNKDGVLISEGQGFMTREFLKSLRKPFGDFMEPKFEFAVKFNALELDDSDLAIFIAVIILSGDRPGLLNVKPIEDIQDNLLQALELQLKLNHPESSQLFAKLLQKMTDLRQIVTEHVQLLQVIKKTETDMSLHPLLQEIYKDLY\",\n          \"MSTASAASSSSSSSAGEMIEAPSQVLNFEEIDYKEIEVEEVVGRGAFGVVCKAKWRAKDVAIKQIESESERKAFIVELRQLSRVNHPNIVKLYGACLNPVCLVMEYAEGGSLYNVLHGAEPLPYYTAAHAMSWCLQCSQGVAYLHSMQPKALIHRDLKPPNLLLVAGGTVLKICDFGTACDIQTHMTNNKGSAAWMAPEVFEGSNYSEKCDVFSWGIILWEVITRRKPFDEIGGPAFRIMWAVHNGTRPPLIKNLPKPIESLMTRCWSKDPSQRPSMEEIVKIMTHLMRYFPGADEPLQYPCQYSDEGQSNSATSTGSFMDIASTNTSNKSDTNMEQVPATNDTIKRLESKLLKNQAKQQSESGRLSLGASRGSSVESLPPTSEGKRMSADMSEIEARIAATTAYSKPKRGHRKTASFGNILDVPEIVISGNGQPRRRSIQDLTVTGTEPGQVSSRSSSPSVRMITTSGPTSEKPTRSHPWTPDDSTDTNGSDNSIPMAYLTLDHQLQPLAPCPNSKESMAVFEQHCKMAQEYMKVQTEIALLLQRKQELVAELDQDEKDQQNTSRLVQEHKKLLDENKSLSTYYQQCKKQLEVIRSQQQKRQGTS\"\n        ],\n        \"semantic_type\": \"\",\n        \"description\": \"\"\n      }\n    },\n    {\n      \"column\": \"affinity_score\",\n      \"properties\": {\n        \"dtype\": \"number\",\n        \"std\": 1.1368240513772159,\n        \"min\": 1.602059991,\n        \"max\": 13.32790214,\n        \"num_unique_values\": 1015,\n        \"samples\": [\n          8.209714836,\n          3.070581074,\n          8.026872146\n        ],\n        \"semantic_type\": \"\",\n        \"description\": \"\"\n      }\n    }\n  ]\n}"
            }
          },
          "metadata": {},
          "execution_count": 6
        }
      ]
    },
    {
      "cell_type": "code",
      "source": [
        "df2.isna().sum()"
      ],
      "metadata": {
        "colab": {
          "base_uri": "https://localhost:8080/"
        },
        "id": "6vcgtxO9x1nq",
        "outputId": "10038de7-d373-4174-f5b7-7c44bda697b3"
      },
      "execution_count": 7,
      "outputs": [
        {
          "output_type": "execute_result",
          "data": {
            "text/plain": [
              "smiles            0\n",
              "aa_sequence       0\n",
              "affinity_score    0\n",
              "dtype: int64"
            ]
          },
          "metadata": {},
          "execution_count": 7
        }
      ]
    },
    {
      "cell_type": "code",
      "source": [
        "df2.dropna(subset = ['affinity_score'], axis = 0, inplace = True)"
      ],
      "metadata": {
        "id": "NVv6ChAiyXBI"
      },
      "execution_count": 8,
      "outputs": []
    },
    {
      "cell_type": "code",
      "source": [
        "type(df2)"
      ],
      "metadata": {
        "colab": {
          "base_uri": "https://localhost:8080/",
          "height": 204
        },
        "id": "1YzfguBty0IT",
        "outputId": "65e77034-ebfb-4e97-a940-8e2fff6ee3f0"
      },
      "execution_count": 9,
      "outputs": [
        {
          "output_type": "execute_result",
          "data": {
            "text/plain": [
              "pandas.core.frame.DataFrame"
            ],
            "text/html": [
              "<div style=\"max-width:800px; border: 1px solid var(--colab-border-color);\"><style>\n",
              "      pre.function-repr-contents {\n",
              "        overflow-x: auto;\n",
              "        padding: 8px 12px;\n",
              "        max-height: 500px;\n",
              "      }\n",
              "\n",
              "      pre.function-repr-contents.function-repr-contents-collapsed {\n",
              "        cursor: pointer;\n",
              "        max-height: 100px;\n",
              "      }\n",
              "    </style>\n",
              "    <pre style=\"white-space: initial; background:\n",
              "         var(--colab-secondary-surface-color); padding: 8px 12px;\n",
              "         border-bottom: 1px solid var(--colab-border-color);\"><b>pandas.core.frame.DataFrame</b><br/>def __init__(data=None, index: Axes | None=None, columns: Axes | None=None, dtype: Dtype | None=None, copy: bool | None=None) -&gt; None</pre><pre class=\"function-repr-contents function-repr-contents-collapsed\" style=\"\"><a class=\"filepath\" style=\"display:none\" href=\"#\">/usr/local/lib/python3.10/dist-packages/pandas/core/frame.py</a>Two-dimensional, size-mutable, potentially heterogeneous tabular data.\n",
              "\n",
              "Data structure also contains labeled axes (rows and columns).\n",
              "Arithmetic operations align on both row and column labels. Can be\n",
              "thought of as a dict-like container for Series objects. The primary\n",
              "pandas data structure.\n",
              "\n",
              "Parameters\n",
              "----------\n",
              "data : ndarray (structured or homogeneous), Iterable, dict, or DataFrame\n",
              "    Dict can contain Series, arrays, constants, dataclass or list-like objects. If\n",
              "    data is a dict, column order follows insertion-order. If a dict contains Series\n",
              "    which have an index defined, it is aligned by its index.\n",
              "\n",
              "    .. versionchanged:: 0.25.0\n",
              "       If data is a list of dicts, column order follows insertion-order.\n",
              "\n",
              "index : Index or array-like\n",
              "    Index to use for resulting frame. Will default to RangeIndex if\n",
              "    no indexing information part of input data and no index provided.\n",
              "columns : Index or array-like\n",
              "    Column labels to use for resulting frame when data does not have them,\n",
              "    defaulting to RangeIndex(0, 1, 2, ..., n). If data contains column labels,\n",
              "    will perform column selection instead.\n",
              "dtype : dtype, default None\n",
              "    Data type to force. Only a single dtype is allowed. If None, infer.\n",
              "copy : bool or None, default None\n",
              "    Copy data from inputs.\n",
              "    For dict data, the default of None behaves like ``copy=True``.  For DataFrame\n",
              "    or 2d ndarray input, the default of None behaves like ``copy=False``.\n",
              "    If data is a dict containing one or more Series (possibly of different dtypes),\n",
              "    ``copy=False`` will ensure that these inputs are not copied.\n",
              "\n",
              "    .. versionchanged:: 1.3.0\n",
              "\n",
              "See Also\n",
              "--------\n",
              "DataFrame.from_records : Constructor from tuples, also record arrays.\n",
              "DataFrame.from_dict : From dicts of Series, arrays, or dicts.\n",
              "read_csv : Read a comma-separated values (csv) file into DataFrame.\n",
              "read_table : Read general delimited file into DataFrame.\n",
              "read_clipboard : Read text from clipboard into DataFrame.\n",
              "\n",
              "Notes\n",
              "-----\n",
              "Please reference the :ref:`User Guide &lt;basics.dataframe&gt;` for more information.\n",
              "\n",
              "Examples\n",
              "--------\n",
              "Constructing DataFrame from a dictionary.\n",
              "\n",
              "&gt;&gt;&gt; d = {&#x27;col1&#x27;: [1, 2], &#x27;col2&#x27;: [3, 4]}\n",
              "&gt;&gt;&gt; df = pd.DataFrame(data=d)\n",
              "&gt;&gt;&gt; df\n",
              "   col1  col2\n",
              "0     1     3\n",
              "1     2     4\n",
              "\n",
              "Notice that the inferred dtype is int64.\n",
              "\n",
              "&gt;&gt;&gt; df.dtypes\n",
              "col1    int64\n",
              "col2    int64\n",
              "dtype: object\n",
              "\n",
              "To enforce a single dtype:\n",
              "\n",
              "&gt;&gt;&gt; df = pd.DataFrame(data=d, dtype=np.int8)\n",
              "&gt;&gt;&gt; df.dtypes\n",
              "col1    int8\n",
              "col2    int8\n",
              "dtype: object\n",
              "\n",
              "Constructing DataFrame from a dictionary including Series:\n",
              "\n",
              "&gt;&gt;&gt; d = {&#x27;col1&#x27;: [0, 1, 2, 3], &#x27;col2&#x27;: pd.Series([2, 3], index=[2, 3])}\n",
              "&gt;&gt;&gt; pd.DataFrame(data=d, index=[0, 1, 2, 3])\n",
              "   col1  col2\n",
              "0     0   NaN\n",
              "1     1   NaN\n",
              "2     2   2.0\n",
              "3     3   3.0\n",
              "\n",
              "Constructing DataFrame from numpy ndarray:\n",
              "\n",
              "&gt;&gt;&gt; df2 = pd.DataFrame(np.array([[1, 2, 3], [4, 5, 6], [7, 8, 9]]),\n",
              "...                    columns=[&#x27;a&#x27;, &#x27;b&#x27;, &#x27;c&#x27;])\n",
              "&gt;&gt;&gt; df2\n",
              "   a  b  c\n",
              "0  1  2  3\n",
              "1  4  5  6\n",
              "2  7  8  9\n",
              "\n",
              "Constructing DataFrame from a numpy ndarray that has labeled columns:\n",
              "\n",
              "&gt;&gt;&gt; data = np.array([(1, 2, 3), (4, 5, 6), (7, 8, 9)],\n",
              "...                 dtype=[(&quot;a&quot;, &quot;i4&quot;), (&quot;b&quot;, &quot;i4&quot;), (&quot;c&quot;, &quot;i4&quot;)])\n",
              "&gt;&gt;&gt; df3 = pd.DataFrame(data, columns=[&#x27;c&#x27;, &#x27;a&#x27;])\n",
              "...\n",
              "&gt;&gt;&gt; df3\n",
              "   c  a\n",
              "0  3  1\n",
              "1  6  4\n",
              "2  9  7\n",
              "\n",
              "Constructing DataFrame from dataclass:\n",
              "\n",
              "&gt;&gt;&gt; from dataclasses import make_dataclass\n",
              "&gt;&gt;&gt; Point = make_dataclass(&quot;Point&quot;, [(&quot;x&quot;, int), (&quot;y&quot;, int)])\n",
              "&gt;&gt;&gt; pd.DataFrame([Point(0, 0), Point(0, 3), Point(2, 3)])\n",
              "   x  y\n",
              "0  0  0\n",
              "1  0  3\n",
              "2  2  3</pre>\n",
              "      <script>\n",
              "      if (google.colab.kernel.accessAllowed && google.colab.files && google.colab.files.view) {\n",
              "        for (const element of document.querySelectorAll('.filepath')) {\n",
              "          element.style.display = 'block'\n",
              "          element.onclick = (event) => {\n",
              "            event.preventDefault();\n",
              "            event.stopPropagation();\n",
              "            google.colab.files.view(element.textContent, 475);\n",
              "          };\n",
              "        }\n",
              "      }\n",
              "      for (const element of document.querySelectorAll('.function-repr-contents')) {\n",
              "        element.onclick = (event) => {\n",
              "          event.preventDefault();\n",
              "          event.stopPropagation();\n",
              "          element.classList.toggle('function-repr-contents-collapsed');\n",
              "        };\n",
              "      }\n",
              "      </script>\n",
              "      </div>"
            ]
          },
          "metadata": {},
          "execution_count": 9
        }
      ]
    },
    {
      "cell_type": "code",
      "source": [
        "# Extracting columns into separate lists\n",
        "smiles_list = df2['smiles'].tolist()\n",
        "aa_sequence_list = df2['aa_sequence'].tolist()\n",
        "affinity_score_list = df2['affinity_score'].tolist()\n"
      ],
      "metadata": {
        "id": "_whXlTmw3BdF"
      },
      "execution_count": 10,
      "outputs": []
    },
    {
      "cell_type": "code",
      "source": [
        "smiles_list[0]"
      ],
      "metadata": {
        "colab": {
          "base_uri": "https://localhost:8080/",
          "height": 36
        },
        "id": "5wqzrpO2_ReZ",
        "outputId": "01b7db65-97d1-40d4-b567-ac931b712715"
      },
      "execution_count": 11,
      "outputs": [
        {
          "output_type": "execute_result",
          "data": {
            "text/plain": [
              "'CNC(=O)c1c(F)cccc1Nc1nc(Nc2cc3N(CCc3cc2OC)C(=O)CN(C)C)nc2[nH]ccc12'"
            ],
            "application/vnd.google.colaboratory.intrinsic+json": {
              "type": "string"
            }
          },
          "metadata": {},
          "execution_count": 11
        }
      ]
    },
    {
      "cell_type": "code",
      "source": [
        "aa_sequence_list[0]"
      ],
      "metadata": {
        "colab": {
          "base_uri": "https://localhost:8080/",
          "height": 105
        },
        "id": "UjF51j78_Y2s",
        "outputId": "f1ddaffc-22c2-4167-ef76-eff1feeb3fdc"
      },
      "execution_count": 12,
      "outputs": [
        {
          "output_type": "execute_result",
          "data": {
            "text/plain": [
              "'MALDYLLLLLLASAVAAMEETLMDTRTATAELGWTANPASGWEEVSGYDENLNTIRTYQVCNVFEPNQNNWLLTTFINRRGAHRIYTEMRFTVRDCSSLPNVPGSCKETFNLYYYETDSVIATKKSAFWSEAPYLKVDTIAADESFSQVDFGGRLMKVNTEVRSFGPLTRNGFYLAFQDYGACMSLLSVRVFFKKCPSIVQNFAVFPETMTGAESTSLVIARGTCIPNAEEVDVPIKLYCNGDGEWMVPIGRCTCKPGYEPENSVACKACPAGTFKASQEAEGCSHCPSNSRSPAEASPICTCRTGYYRADFDPPEVACTSVPSGPRNVISIVNETSIILEWHPPRETGGRDDVTYNIICKKCRADRRSCSRCDDNVEFVPRQLGLTECRVSISSLWAHTPYTFDIQAINGVSSKSPFPPQHVSVNITTNQAAPSTVPIMHQVSATMRSITLSWPQPEQPNGIILDYEIRYYEKEHNEFNSSMARSQTNTARIDGLRPGMVYVVQVRARTVAGYGKFSGKMCFQTLTDDDYKSELREQLPLIAGSAAAGVVFVVSLVAISIVCSRKRAYSKEAVYSDKLQHYSTGRGSPGMKIYIDPFTYEDPNEAVREFAKEIDVSFVKIEEVIGAGEFGEVYKGRLKLPGKREIYVAIKTLKAGYSEKQRRDFLSEASIMGQFDHPNIIRLEGVVTKSRPVMIITEFMENGALDSFLRQNDGQFTVIQLVGMLRGIAAGMKYLAEMNYVHRDLAARNILVNSNLVCKVSDFGLSRYLQDDTSDPTYTSSLGGKIPVRWTAPEAIAYRKFTSASDVWSYGIVMWEVMSFGERPYWDMSNQDVINAIEQDYRLPPPMDCPAALHQLMLDCWQKDRNSRPRFAEIVNTLDKMIRNPASLKTVATITAVPSQPLLDRSIPDFTAFTTVDDWLSAIKMVQYRDSFLTAGFTSLQLVTQMTSEDLLRIGITLAGHQKKILNSIHSMRVQISQSPTAMA'"
            ],
            "application/vnd.google.colaboratory.intrinsic+json": {
              "type": "string"
            }
          },
          "metadata": {},
          "execution_count": 12
        }
      ]
    },
    {
      "cell_type": "code",
      "source": [
        "affinity_score_list[0]"
      ],
      "metadata": {
        "colab": {
          "base_uri": "https://localhost:8080/"
        },
        "id": "zKr2KAVD_RPl",
        "outputId": "fc653e24-469f-4659-c532-4834761770f5"
      },
      "execution_count": 13,
      "outputs": [
        {
          "output_type": "execute_result",
          "data": {
            "text/plain": [
              "5.0"
            ]
          },
          "metadata": {},
          "execution_count": 13
        }
      ]
    },
    {
      "cell_type": "markdown",
      "source": [
        "### **Train_Test_split**"
      ],
      "metadata": {
        "id": "Tdiv5vB5EwKv"
      }
    },
    {
      "cell_type": "code",
      "source": [
        "split = int(0.9 * len(smiles_list))\n",
        "train_smiles = smiles_list[:split]\n",
        "test_smiles = smiles_list[split:]\n",
        "train_proteins = aa_sequence_list[:split]\n",
        "test_proteins = aa_sequence_list[split:]\n",
        "train_labels = affinity_score_list[:split]\n",
        "test_labels = affinity_score_list[split:]"
      ],
      "metadata": {
        "id": "6WccnG8-Cv4A"
      },
      "execution_count": 14,
      "outputs": []
    },
    {
      "cell_type": "code",
      "source": [
        "len(train_smiles), len(train_proteins), len(train_labels)"
      ],
      "metadata": {
        "colab": {
          "base_uri": "https://localhost:8080/"
        },
        "id": "Dxwebb-0FGFM",
        "outputId": "d66894c3-395a-4299-da51-d0f212efa9a4"
      },
      "execution_count": 15,
      "outputs": [
        {
          "output_type": "execute_result",
          "data": {
            "text/plain": [
              "(16614, 16614, 16614)"
            ]
          },
          "metadata": {},
          "execution_count": 15
        }
      ]
    },
    {
      "cell_type": "markdown",
      "source": [
        "### Our input data is in form of strings so we need to encode them"
      ],
      "metadata": {
        "id": "q-QIHXYdBmnz"
      }
    },
    {
      "cell_type": "code",
      "source": [
        "# Tokenize smiles\n",
        "\n",
        "# train (this set is performed on only training data, never on test data)\n",
        "tokenizer_smiles = Tokenizer(char_level = True)\n",
        "tokenizer_smiles.fit_on_texts(train_smiles)\n",
        "\n",
        "# word index is just a dictionary that shows us what index corresponds to what character\n",
        "word_index_smiles = tokenizer_smiles.word_index\n",
        "vocab_size_smiles = len(word_index_smiles)\n",
        "\n",
        "#every drug in our dataset is converted into sequence of numbers\n",
        "train_sequences_smiles = tokenizer_smiles.texts_to_sequences(train_smiles)\n",
        "'''Every smile file has not the same length, but our neural network expects a\n",
        "fixed length input so to do that we use padding layers.\n",
        "`maxlen =85` means the maximum length of input sequence, it is 85 because authors of papaer have stated it. '''\n",
        "train_padded_smiles = pad_sequences(train_sequences_smiles, truncating = 'post', padding = 'post', maxlen = 85)\n",
        "\n",
        "\n",
        "#test\n",
        "test_sequences_smiles = tokenizer_smiles.texts_to_sequences(test_smiles)\n",
        "test_padded_smiles = pad_sequences(test_sequences_smiles, truncating = 'post', padding = 'post', maxlen = 85)"
      ],
      "metadata": {
        "id": "RuTqtFj0y_HU"
      },
      "execution_count": 16,
      "outputs": []
    },
    {
      "cell_type": "code",
      "source": [
        "# Tokenize Proteins\n",
        "\n",
        "#train\n",
        "tokenizer_proteins = Tokenizer(char_level = True)\n",
        "tokenizer_proteins.fit_on_texts(train_proteins)\n",
        "\n",
        "word_index_proteins = tokenizer_proteins.word_index\n",
        "vocab_size_proteins = len(word_index_proteins)\n",
        "\n",
        "train_sequences_proteins = tokenizer_proteins.texts_to_sequences(train_proteins)\n",
        "train_padded_proteins = pad_sequences(train_sequences_proteins, truncating  = 'post', padding = 'post', maxlen = 1200)\n",
        "\n",
        "#test\n",
        "test_sequences_proteins = tokenizer_proteins.texts_to_sequences(test_proteins)\n",
        "test_padded_proteins = pad_sequences(test_sequences_proteins, truncating = 'post', padding = 'post', maxlen = 1200)"
      ],
      "metadata": {
        "id": "YNDr4NIbN3JO"
      },
      "execution_count": 17,
      "outputs": []
    },
    {
      "cell_type": "code",
      "source": [
        "print(vocab_size_smiles)\n",
        "print(vocab_size_proteins)"
      ],
      "metadata": {
        "colab": {
          "base_uri": "https://localhost:8080/"
        },
        "id": "8G3wNeN1P_v0",
        "outputId": "68b7172c-4656-488f-fa2d-0af1b6fc4e0a"
      },
      "execution_count": 18,
      "outputs": [
        {
          "output_type": "stream",
          "name": "stdout",
          "text": [
            "30\n",
            "20\n"
          ]
        }
      ]
    },
    {
      "cell_type": "code",
      "source": [
        "# convert to numpy arrays and check dimensions\n",
        "train_smiles_array = np.array(train_padded_smiles)\n",
        "test_smiles_array = np.array(test_padded_smiles)\n",
        "train_proteins_array = np.array(train_padded_proteins)\n",
        "test_proteins_array = np.array(test_padded_proteins)\n",
        "train_labels_array = np.array(train_labels, dtype = 'float32')\n",
        "test_labels_array = np.array(test_labels, dtype = 'float32')\n",
        "\n",
        "print(f\"Train smiles array shape: {train_smiles_array.shape}\")\n",
        "print(f\"Test smile array shape: {test_smiles_array.shape}\")\n",
        "print(f\" Train protein array shape: {train_proteins_array.shape}\")\n",
        "print(f\"Test protein array shape: {test_proteins_array.shape}\")\n",
        "print(f\"Train labels array shape: {train_labels_array.shape}\")\n",
        "print(f\"Test labels array shape: {test_labels_array.shape}\")"
      ],
      "metadata": {
        "colab": {
          "base_uri": "https://localhost:8080/"
        },
        "id": "dSphNqSzQksx",
        "outputId": "85181856-5541-4fc7-afbe-31931625f5b7"
      },
      "execution_count": 19,
      "outputs": [
        {
          "output_type": "stream",
          "name": "stdout",
          "text": [
            "Train smiles array shape: (16614, 85)\n",
            "Test smile array shape: (1847, 85)\n",
            " Train protein array shape: (16614, 1200)\n",
            "Test protein array shape: (1847, 1200)\n",
            "Train labels array shape: (16614,)\n",
            "Test labels array shape: (1847,)\n"
          ]
        }
      ]
    },
    {
      "cell_type": "markdown",
      "source": [
        "# **Deep DTA Model**"
      ],
      "metadata": {
        "id": "Ze-XdUqnXXyq"
      }
    },
    {
      "cell_type": "code",
      "source": [
        "from keras.layers import Input, Embedding, Concatenate, Conv1D, GlobalAveragePooling1D, Dense, Dropout, GlobalMaxPooling1D\n",
        "from keras.models import Model\n",
        "\n",
        "# Define two input layers i. one for smile sequence and one for protein\n",
        "smile_input = Input((85,))\n",
        "protein_input = Input((1200,))\n",
        "\n",
        "#smiles encoder\n",
        "embed_smiles = Embedding(vocab_size_smiles+1, 128, input_length = 58)(smile_input)\n",
        "conv_smiles = Conv1D(32, 4, activation = 'relu')(embed_smiles)\n",
        "conv_smiles = Conv1D(64, 6, activation = 'relu')(conv_smiles)\n",
        "conv_smiles = Conv1D(96, 8, activation = 'relu')(conv_smiles)\n",
        "max_smiles = GlobalMaxPooling1D()(conv_smiles)\n",
        "#flat_smiles = Flatten()(max_smiles)\n",
        "\n",
        "#proteins encoder\n",
        "embed_protein = Embedding(vocab_size_proteins+1, 128, input_length = 1200)(protein_input)\n",
        "conv_protein = Conv1D(32, 4, activation = \"relu\")(embed_protein)\n",
        "conv_protein = Conv1D(64, 8, activation = \"relu\")(conv_protein)\n",
        "conv_protein = Conv1D(96, 12, activation = \"relu\")(conv_protein)\n",
        "max_protein = GlobalMaxPooling1D()(conv_protein)\n",
        "\n",
        "# concatenate the two encoder outputs\n",
        "concat_layer = Concatenate()([max_smiles, max_protein])\n",
        "\n",
        "# decoder\n",
        "output = Dense(1024, activation = \"relu\")(concat_layer)\n",
        "output = Dropout(0.1)(output)\n",
        "output = Dense(1024, activation = \"relu\")(output)\n",
        "output = Dropout(0.1)(output)\n",
        "output = Dense(512, activation = \"relu\")(output)\n",
        "output = Dense(1)(output)\n",
        "\n",
        "# define model with a list of two inputs\n",
        "model = Model(inputs = [smile_input, protein_input], outputs = output)"
      ],
      "metadata": {
        "id": "m0Zd7yiRWK8q"
      },
      "execution_count": 20,
      "outputs": []
    },
    {
      "cell_type": "code",
      "source": [
        "# compile the model\n",
        "optimizer = optimizers.Adam(learning_rate = 0.001)\n",
        "model.compile(loss = \"mse\", optimizer = optimizer, metrics = ['mse'])"
      ],
      "metadata": {
        "id": "06UzeDmsEfYN"
      },
      "execution_count": 21,
      "outputs": []
    },
    {
      "cell_type": "code",
      "source": [
        "# visualize the model\n",
        "tf.keras.utils.plot_model(model)"
      ],
      "metadata": {
        "colab": {
          "base_uri": "https://localhost:8080/",
          "height": 1000
        },
        "id": "FhFAu-LIEvPh",
        "outputId": "bfcaaff8-9d47-4891-fad8-e831f70433eb"
      },
      "execution_count": 22,
      "outputs": [
        {
          "output_type": "execute_result",
          "data": {
            "image/png": "[encoded data removed]",
            "text/plain": [
              "<IPython.core.display.Image object>"
            ]
          },
          "metadata": {},
          "execution_count": 22
        }
      ]
    },
    {
      "cell_type": "code",
      "source": [
        "model.summary()"
      ],
      "metadata": {
        "colab": {
          "base_uri": "https://localhost:8080/"
        },
        "id": "XLGjcNPKE4sB",
        "outputId": "84f9ca42-ce98-4513-dab9-0f145d2f7ee5"
      },
      "execution_count": 23,
      "outputs": [
        {
          "output_type": "stream",
          "name": "stdout",
          "text": [
            "Model: \"model\"\n",
            "__________________________________________________________________________________________________\n",
            " Layer (type)                Output Shape                 Param #   Connected to                  \n",
            "==================================================================================================\n",
            " input_1 (InputLayer)        [(None, 85)]                 0         []                            \n",
            "                                                                                                  \n",
            " input_2 (InputLayer)        [(None, 1200)]               0         []                            \n",
            "                                                                                                  \n",
            " embedding (Embedding)       (None, 85, 128)              3968      ['input_1[0][0]']             \n",
            "                                                                                                  \n",
            " embedding_1 (Embedding)     (None, 1200, 128)            2688      ['input_2[0][0]']             \n",
            "                                                                                                  \n",
            " conv1d (Conv1D)             (None, 82, 32)               16416     ['embedding[0][0]']           \n",
            "                                                                                                  \n",
            " conv1d_3 (Conv1D)           (None, 1197, 32)             16416     ['embedding_1[0][0]']         \n",
            "                                                                                                  \n",
            " conv1d_1 (Conv1D)           (None, 77, 64)               12352     ['conv1d[0][0]']              \n",
            "                                                                                                  \n",
            " conv1d_4 (Conv1D)           (None, 1190, 64)             16448     ['conv1d_3[0][0]']            \n",
            "                                                                                                  \n",
            " conv1d_2 (Conv1D)           (None, 70, 96)               49248     ['conv1d_1[0][0]']            \n",
            "                                                                                                  \n",
            " conv1d_5 (Conv1D)           (None, 1179, 96)             73824     ['conv1d_4[0][0]']            \n",
            "                                                                                                  \n",
            " global_max_pooling1d (Glob  (None, 96)                   0         ['conv1d_2[0][0]']            \n",
            " alMaxPooling1D)                                                                                  \n",
            "                                                                                                  \n",
            " global_max_pooling1d_1 (Gl  (None, 96)                   0         ['conv1d_5[0][0]']            \n",
            " obalMaxPooling1D)                                                                                \n",
            "                                                                                                  \n",
            " concatenate (Concatenate)   (None, 192)                  0         ['global_max_pooling1d[0][0]',\n",
            "                                                                     'global_max_pooling1d_1[0][0]\n",
            "                                                                    ']                            \n",
            "                                                                                                  \n",
            " dense (Dense)               (None, 1024)                 197632    ['concatenate[0][0]']         \n",
            "                                                                                                  \n",
            " dropout (Dropout)           (None, 1024)                 0         ['dense[0][0]']               \n",
            "                                                                                                  \n",
            " dense_1 (Dense)             (None, 1024)                 1049600   ['dropout[0][0]']             \n",
            "                                                                                                  \n",
            " dropout_1 (Dropout)         (None, 1024)                 0         ['dense_1[0][0]']             \n",
            "                                                                                                  \n",
            " dense_2 (Dense)             (None, 512)                  524800    ['dropout_1[0][0]']           \n",
            "                                                                                                  \n",
            " dense_3 (Dense)             (None, 1)                    513       ['dense_2[0][0]']             \n",
            "                                                                                                  \n",
            "==================================================================================================\n",
            "Total params: 1963905 (7.49 MB)\n",
            "Trainable params: 1963905 (7.49 MB)\n",
            "Non-trainable params: 0 (0.00 Byte)\n",
            "__________________________________________________________________________________________________\n"
          ]
        }
      ]
    },
    {
      "cell_type": "code",
      "source": [
        "from tensorflow.keras.callbacks import EarlyStopping\n",
        "\n",
        "early_stopping = EarlyStopping(\n",
        "    min_delta = 0.01, #minimum amout of change to count as an improvement\n",
        "    patience = 5, #how many epochs to wait before stopping\n",
        "    restore_best_weights = True,\n",
        ")\n",
        "\n",
        "history = model.fit([train_smiles_array, train_proteins_array], train_labels_array,\n",
        "                    epochs = 500, batch_size = 32, validation_data = ([test_smiles_array, test_proteins_array], test_labels_array), callbacks=[early_stopping])"
      ],
      "metadata": {
        "colab": {
          "base_uri": "https://localhost:8080/"
        },
        "id": "dxLB_ILGFP6I",
        "outputId": "c253f3d9-5203-41a6-9ebe-0592bfa468aa"
      },
      "execution_count": 24,
      "outputs": [
        {
          "output_type": "stream",
          "name": "stdout",
          "text": [
            "Epoch 1/500\n",
            "520/520 [==============================] - 20s 19ms/step - loss: 1.3891 - mse: 1.3891 - val_loss: 0.9689 - val_mse: 0.9689\n",
            "Epoch 2/500\n",
            "520/520 [==============================] - 8s 15ms/step - loss: 0.8681 - mse: 0.8681 - val_loss: 0.7683 - val_mse: 0.7683\n",
            "Epoch 3/500\n",
            "520/520 [==============================] - 7s 14ms/step - loss: 0.8388 - mse: 0.8388 - val_loss: 0.7227 - val_mse: 0.7227\n",
            "Epoch 4/500\n",
            "520/520 [==============================] - 8s 15ms/step - loss: 0.8112 - mse: 0.8112 - val_loss: 0.7735 - val_mse: 0.7735\n",
            "Epoch 5/500\n",
            "520/520 [==============================] - 7s 14ms/step - loss: 0.7471 - mse: 0.7471 - val_loss: 0.6988 - val_mse: 0.6988\n",
            "Epoch 6/500\n",
            "520/520 [==============================] - 8s 15ms/step - loss: 0.6977 - mse: 0.6977 - val_loss: 0.6190 - val_mse: 0.6190\n",
            "Epoch 7/500\n",
            "520/520 [==============================] - 8s 15ms/step - loss: 0.6101 - mse: 0.6101 - val_loss: 0.6944 - val_mse: 0.6944\n",
            "Epoch 8/500\n",
            "520/520 [==============================] - 7s 14ms/step - loss: 0.5768 - mse: 0.5768 - val_loss: 0.7109 - val_mse: 0.7109\n",
            "Epoch 9/500\n",
            "520/520 [==============================] - 8s 15ms/step - loss: 0.5333 - mse: 0.5333 - val_loss: 0.5343 - val_mse: 0.5343\n",
            "Epoch 10/500\n",
            "520/520 [==============================] - 7s 14ms/step - loss: 0.5362 - mse: 0.5362 - val_loss: 0.5198 - val_mse: 0.5198\n",
            "Epoch 11/500\n",
            "520/520 [==============================] - 8s 15ms/step - loss: 0.5065 - mse: 0.5065 - val_loss: 0.5996 - val_mse: 0.5996\n",
            "Epoch 12/500\n",
            "520/520 [==============================] - 8s 16ms/step - loss: 0.4912 - mse: 0.4912 - val_loss: 0.5973 - val_mse: 0.5973\n",
            "Epoch 13/500\n",
            "520/520 [==============================] - 7s 14ms/step - loss: 0.4682 - mse: 0.4682 - val_loss: 0.5156 - val_mse: 0.5156\n",
            "Epoch 14/500\n",
            "520/520 [==============================] - 8s 15ms/step - loss: 0.4440 - mse: 0.4440 - val_loss: 0.4908 - val_mse: 0.4908\n",
            "Epoch 15/500\n",
            "520/520 [==============================] - 7s 14ms/step - loss: 0.4379 - mse: 0.4379 - val_loss: 0.4469 - val_mse: 0.4469\n",
            "Epoch 16/500\n",
            "520/520 [==============================] - 8s 15ms/step - loss: 0.4213 - mse: 0.4213 - val_loss: 0.5066 - val_mse: 0.5066\n",
            "Epoch 17/500\n",
            "520/520 [==============================] - 8s 15ms/step - loss: 0.4158 - mse: 0.4158 - val_loss: 0.4551 - val_mse: 0.4551\n",
            "Epoch 18/500\n",
            "520/520 [==============================] - 8s 15ms/step - loss: 0.3900 - mse: 0.3900 - val_loss: 0.5250 - val_mse: 0.5250\n",
            "Epoch 19/500\n",
            "520/520 [==============================] - 8s 15ms/step - loss: 0.3863 - mse: 0.3863 - val_loss: 0.4840 - val_mse: 0.4840\n",
            "Epoch 20/500\n",
            "520/520 [==============================] - 8s 15ms/step - loss: 0.3621 - mse: 0.3621 - val_loss: 0.4501 - val_mse: 0.4501\n"
          ]
        }
      ]
    },
    {
      "cell_type": "code",
      "source": [
        "import matplotlib.pyplot as plt\n",
        "\n",
        "#---------------------------------------------------------------\n",
        "# Retrieve a list of list results on training and test data\n",
        "#Sets for each training epoch\n",
        "#---------------------------------------------------------------\n",
        "mse = history.history['mse']\n",
        "val_mse = history.history['val_mse']\n",
        "loss = history.history['loss']\n",
        "val_loss = history.history['val_loss']\n",
        "\n",
        "epochs = range(len(mse)) #Get number of epochs\n",
        "\n",
        "#---------------------------------------------------------------\n",
        "# Plot training and validation mse per epoch\n",
        "#----------------------------------------------------------------\n",
        "plt.plot(epochs, mse, 'r')\n",
        "plt.plot(epochs, val_mse, 'b')\n",
        "plt.title(\"Training and validation MSE\")\n",
        "plt.xlabel(\"Epochs\")\n",
        "plt.ylabel(\"MSE\")\n",
        "plt.legend([\"Training MSE\", \"Validation MSE\"])\n",
        "\n",
        "plt.figure()"
      ],
      "metadata": {
        "id": "KykoE85OFDgg",
        "colab": {
          "base_uri": "https://localhost:8080/",
          "height": 507
        },
        "outputId": "9be9fe19-49af-4d7a-c031-d04d55663ba2"
      },
      "execution_count": 25,
      "outputs": [
        {
          "output_type": "execute_result",
          "data": {
            "text/plain": [
              "<Figure size 640x480 with 0 Axes>"
            ]
          },
          "metadata": {},
          "execution_count": 25
        },
        {
          "output_type": "display_data",
          "data": {
            "text/plain": [
              "<Figure size 640x480 with 1 Axes>"
            ],
            "image/png": "[encoded data removed]"
          },
          "metadata": {}
        },
        {
          "output_type": "display_data",
          "data": {
            "text/plain": [
              "<Figure size 640x480 with 0 Axes>"
            ]
          },
          "metadata": {}
        }
      ]
    },
    {
      "cell_type": "code",
      "source": [
        "model.save(\"replicating_deepDTA_0.h5\")"
      ],
      "metadata": {
        "id": "M7Y6oVvXJHnL",
        "colab": {
          "base_uri": "https://localhost:8080/"
        },
        "outputId": "665f7f09-7bb1-4d74-cbc3-a6e824bd2a6a"
      },
      "execution_count": 26,
      "outputs": [
        {
          "output_type": "stream",
          "name": "stderr",
          "text": [
            "/usr/local/lib/python3.10/dist-packages/keras/src/engine/training.py:3103: UserWarning: You are saving your model as an HDF5 file via `model.save()`. This file format is considered legacy. We recommend using instead the native Keras format, e.g. `model.save('my_model.keras')`.\n",
            "  saving_api.save_model(\n"
          ]
        }
      ]
    },
    {
      "cell_type": "markdown",
      "source": [
        "# **Make predications**"
      ],
      "metadata": {
        "id": "OzJ1AXX5KI8h"
      }
    },
    {
      "cell_type": "code",
      "source": [
        "# Function to predict drug-protein pKd\n",
        "\n",
        "def predict_pKd(drug, protein):\n",
        "    drug_sequence = tokenizer_smiles.texts_to_sequences([drug])\n",
        "    drug_padded = pad_sequences(drug_sequence, truncating= \"post\", padding = \"post\", maxlen = 85)\n",
        "    protein_sequence = tokenizer_proteins.texts_to_sequences([protein])\n",
        "    protein_padded = pad_sequences(protein_sequence, truncating = \"post\", padding = \"post\", maxlen = 1200)\n",
        "    prediction = model.predict([tf.expand_dims(drug_padded, axis = -1), tf.expand_dims(protein_padded, axis = -1)])\n",
        "\n",
        "    return(prediction.item())"
      ],
      "metadata": {
        "id": "RHCC-HmHJwB_"
      },
      "execution_count": 27,
      "outputs": []
    },
    {
      "cell_type": "code",
      "source": [
        "drug = test_smiles[131]\n",
        "protein = test_proteins[131]\n",
        "label = test_labels[131]\n",
        "\n",
        "print(label)\n",
        "predict_pKd(drug = drug, protein = protein)"
      ],
      "metadata": {
        "id": "WJSBjAAkPzkK",
        "colab": {
          "base_uri": "https://localhost:8080/"
        },
        "outputId": "36ddea74-b28c-46fc-bb93-0a373badd150"
      },
      "execution_count": 28,
      "outputs": [
        {
          "output_type": "stream",
          "name": "stdout",
          "text": [
            "5.346787486\n",
            "1/1 [==============================] - 1s 517ms/step\n"
          ]
        },
        {
          "output_type": "execute_result",
          "data": {
            "text/plain": [
              "5.145613670349121"
            ]
          },
          "metadata": {},
          "execution_count": 28
        }
      ]
    },
    {
      "cell_type": "code",
      "source": [
        "test_labels.index(max(test_labels))"
      ],
      "metadata": {
        "id": "nHDIiXK_Pd1e",
        "colab": {
          "base_uri": "https://localhost:8080/"
        },
        "outputId": "3a19c489-d8ba-4b73-c476-f53127afbd7f"
      },
      "execution_count": 29,
      "outputs": [
        {
          "output_type": "execute_result",
          "data": {
            "text/plain": [
              "1232"
            ]
          },
          "metadata": {},
          "execution_count": 29
        }
      ]
    },
    {
      "cell_type": "code",
      "source": [],
      "metadata": {
        "id": "qukeu16MCozc"
      },
      "execution_count": null,
      "outputs": []
    }
  ]
}